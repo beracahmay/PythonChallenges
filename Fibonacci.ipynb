{
 "cells": [
  {
   "cell_type": "markdown",
   "id": "d9013df9",
   "metadata": {},
   "source": [
    "Problem Retrieved From : https://www.practicepython.org/exercise/2014/04/30/13-fibonacci.html"
   ]
  },
  {
   "cell_type": "markdown",
   "id": "0a438e63",
   "metadata": {},
   "source": [
    "### Simple Function"
   ]
  },
  {
   "cell_type": "code",
   "execution_count": 9,
   "id": "5a997df8",
   "metadata": {},
   "outputs": [
    {
     "name": "stdout",
     "output_type": "stream",
     "text": [
      "Fibonacci sequence:\n",
      "0\n",
      "1\n",
      "1\n",
      "2\n",
      "3\n",
      "5\n",
      "8\n",
      "13\n",
      "21\n"
     ]
    }
   ],
   "source": [
    "def Fib(x):\n",
    "    if x <= 1:\n",
    "        return(x)\n",
    "    else:\n",
    "        return(Fib(x-1) + Fib(x-2)) \n",
    "\n",
    "num=int(input(\"Input a number: \"))\n",
    "\n",
    "  \n",
    "if num <= 0:\n",
    "    print(\"Please enter a positive integer\")  \n",
    "else:  \n",
    "    print(\"Fibonacci sequence:\")  \n",
    "    for i in range(num):\n",
    "        print(Fib(i))"
   ]
  },
  {
   "cell_type": "markdown",
   "id": "d66caf2a",
   "metadata": {},
   "source": [
    "### Fibonacci Class"
   ]
  },
  {
   "cell_type": "code",
   "execution_count": 10,
   "id": "9fed6e4b",
   "metadata": {},
   "outputs": [
    {
     "name": "stdout",
     "output_type": "stream",
     "text": [
      "You have selected 10. The Fibonnacci sequence is :\n"
     ]
    },
    {
     "data": {
      "text/plain": [
       "[0, 1, 1, 2, 3, 5, 8, 13, 21, 34]"
      ]
     },
     "execution_count": 10,
     "metadata": {},
     "output_type": "execute_result"
    }
   ],
   "source": [
    "class Fibonacci:\n",
    "        def Fib(self):\n",
    "            self.x=int(input(\"Please enter a positive integer:\"))\n",
    "            self.fib_list=[]\n",
    "            print(\"You have selected {num}. The Fibonnacci sequence is :\".format(num=self.x))\n",
    "            for i in range(self.x):\n",
    "                self.fib_list.append(Fib(i))\n",
    "            if self.x <= 1:\n",
    "                self.x\n",
    "            else:\n",
    "                Fib(self.x-1) + Fib(self.x-2)\n",
    "            return self.fib_list\n",
    "\n",
    "\n",
    "f=Fibonacci()\n",
    "f.Fib()\n",
    "\n"
   ]
  }
 ],
 "metadata": {
  "kernelspec": {
   "display_name": "Python 3 (ipykernel)",
   "language": "python",
   "name": "python3"
  },
  "language_info": {
   "codemirror_mode": {
    "name": "ipython",
    "version": 3
   },
   "file_extension": ".py",
   "mimetype": "text/x-python",
   "name": "python",
   "nbconvert_exporter": "python",
   "pygments_lexer": "ipython3",
   "version": "3.9.12"
  },
  "vscode": {
   "interpreter": {
    "hash": "8dceca569636eb1e71935a35d8a85190f856cf5d52c4f1c4f561325189cd42cb"
   }
  }
 },
 "nbformat": 4,
 "nbformat_minor": 5
}
