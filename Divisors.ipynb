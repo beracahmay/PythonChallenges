{
 "cells": [
  {
   "cell_type": "markdown",
   "id": "62d2bcdd",
   "metadata": {},
   "source": [
    "Problem Retrieved From: https://www.practicepython.org/exercise/2014/02/26/04-divisors.html\n",
    "\n",
    "#### Create a program that asks the user for a number and then prints out a list of all the divisors of that number. \n",
    "##### My initial solution"
   ]
  },
  {
   "cell_type": "code",
   "execution_count": 36,
   "id": "43835226",
   "metadata": {
    "scrolled": false
   },
   "outputs": [
    {
     "name": "stdout",
     "output_type": "stream",
     "text": [
      "Pick a number whose divisors you would like to know:90\n",
      "\n",
      "The following are the divisors of 90 :\n",
      "1 2 3 5 6 9 10 15 18 30 45 90 "
     ]
    }
   ],
   "source": [
    "num=int(input(\"Pick a number whose divisors you would like to know:\"))\n",
    "print(\"\\nThe following are the divisors of\",num,\":\")\n",
    "\n",
    "for x in range(1,num+1):\n",
    "    if num % x == 0:\n",
    "        print(x,end=' ')"
   ]
  },
  {
   "cell_type": "markdown",
   "id": "4e7d5f1a",
   "metadata": {},
   "source": [
    "##### Corrected Solution"
   ]
  },
  {
   "cell_type": "code",
   "execution_count": 1,
   "id": "a5d7e370",
   "metadata": {},
   "outputs": [
    {
     "name": "stdout",
     "output_type": "stream",
     "text": [
      "Pick a number whose divisors you would like to know:90\n",
      "\n",
      "The following are the divisors of 90 :\n",
      "[1, 2, 3, 5, 6, 9, 10, 15, 18, 30, 45, 90]\n"
     ]
    }
   ],
   "source": [
    "num=int(input(\"Pick a number whose divisors you would like to know:\"))\n",
    "print(\"\\nThe following are the divisors of\",num,\":\")\n",
    "\n",
    "divisors=[]\n",
    "my_range=list(range(1,num+1))\n",
    "\n",
    "for x in my_range:\n",
    "    if num % x == 0:\n",
    "        divisors.append(x)\n",
    "\n",
    "print(divisors)"
   ]
  },
  {
   "cell_type": "code",
   "execution_count": null,
   "id": "cbed6f39",
   "metadata": {},
   "outputs": [],
   "source": []
  }
 ],
 "metadata": {
  "kernelspec": {
   "display_name": "Python 3 (ipykernel)",
   "language": "python",
   "name": "python3"
  },
  "language_info": {
   "codemirror_mode": {
    "name": "ipython",
    "version": 3
   },
   "file_extension": ".py",
   "mimetype": "text/x-python",
   "name": "python",
   "nbconvert_exporter": "python",
   "pygments_lexer": "ipython3",
   "version": "3.9.12"
  }
 },
 "nbformat": 4,
 "nbformat_minor": 5
}
