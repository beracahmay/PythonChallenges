{
 "cells": [
  {
   "cell_type": "markdown",
   "id": "749e5415",
   "metadata": {},
   "source": [
    "Problem Retrieved From: https://www.practicepython.org/exercise/2014/05/28/16-password-generator.html"
   ]
  },
  {
   "cell_type": "code",
   "execution_count": 19,
   "id": "7e938fce",
   "metadata": {},
   "outputs": [
    {
     "name": "stdout",
     "output_type": "stream",
     "text": [
      "Would you like to generate a new password? \n",
      " (Yes or No) yes\n",
      "Would you like a strong password? \n",
      " (Yes or No) yes\n",
      "Your random password is: 7nf<F[e879Mnf\n",
      "Would you like to generate a new password? \n",
      " (Yes or No) no\n",
      "\n",
      "*****End*****\n",
      "\n",
      "The code took 5.739680528640747 seconds  to run\n"
     ]
    }
   ],
   "source": [
    "import random  \n",
    "import string \n",
    "from random_word import RandomWords\n",
    "\n",
    "import time\n",
    "start_time = time.time()\n",
    "\n",
    "# For Strong Password\n",
    "def strong_password(letters, digits, symbols):  \n",
    "    rand = ''.join((random.choice(string.ascii_letters) for x in range(letters)))  \n",
    "    rand += ''.join((random.choice(string.digits) for x in range(digits)))  \n",
    "    rand+= ''.join((random.choice(string.punctuation) for x in range(symbols)))\n",
    "    \n",
    "    # Convert the string to a list\n",
    "    my_list = list(rand)\n",
    "    \n",
    "    # Shuffle the components of the string\n",
    "    random.shuffle(my_list)\n",
    "    \n",
    "    # Convert the shuffled list to string\n",
    "    final_string = ''.join(my_list)  \n",
    "    \n",
    "    return final_string  \n",
    "\n",
    "\n",
    "# For Weak Password, return list of random words to choose from\n",
    "weak_password = RandomWords()\n",
    "\n",
    "while True:\n",
    "    password=str(input(\"Would you like to generate a new password? \\n (Yes or No) \"))\n",
    "    if password.lower()==\"yes\":\n",
    "        strong_weak=str(input(\"Would you like a strong password? \\n (Yes or No) \"))\n",
    "        if strong_weak.lower()==\"yes\":\n",
    "            # Password with 7 letters, 4 numbers and 2 symbols\n",
    "            print(\"Your random password is:\",strong_password(7,4,2)) \n",
    "        else:\n",
    "            list1=weak_password.get_random_words(hasDictionaryDef=\"true\", \n",
    "                                     includePartOfSpeech=\"noun,verb,adjective,adverb\", \n",
    "                                     minCorpusCount=1, \n",
    "                                     maxCorpusCount=10, \n",
    "                                     minDictionaryCount=1, \n",
    "                                     maxDictionaryCount=10, \n",
    "                                     minLength=5, \n",
    "                                     maxLength=10, \n",
    "                                     sortBy=\"alpha\", \n",
    "                                     sortOrder=\"asc\", \n",
    "                                     limit=50)\n",
    "            print(\"Your random password is:\",random.choice(list1))\n",
    "    else:\n",
    "        print(\"\\n*****End*****\")\n",
    "        break\n",
    "        \n",
    "\n",
    "print(\"\\nThe code took %s seconds \" % (time.time() - start_time)+\" to run\")\n"
   ]
  }
 ],
 "metadata": {
  "interpreter": {
   "hash": "b4e2771de1632cdc9a0579042923d0cca398fa685fbd91c1f4d704957664b430"
  },
  "kernelspec": {
   "display_name": "Python 3 (ipykernel)",
   "language": "python",
   "name": "python3"
  },
  "language_info": {
   "codemirror_mode": {
    "name": "ipython",
    "version": 3
   },
   "file_extension": ".py",
   "mimetype": "text/x-python",
   "name": "python",
   "nbconvert_exporter": "python",
   "pygments_lexer": "ipython3",
   "version": "3.9.12"
  }
 },
 "nbformat": 4,
 "nbformat_minor": 5
}
