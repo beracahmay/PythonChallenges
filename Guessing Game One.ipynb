{
 "cells": [
  {
   "cell_type": "markdown",
   "id": "7bb1501b",
   "metadata": {},
   "source": [
    "Problem retrieved from: https://www.practicepython.org/exercise/2014/04/02/09-guessing-game-one.html"
   ]
  },
  {
   "cell_type": "markdown",
   "id": "27bdcc80",
   "metadata": {},
   "source": [
    "## Simple Guessing Game"
   ]
  },
  {
   "cell_type": "code",
   "execution_count": 1,
   "id": "e3db1623",
   "metadata": {},
   "outputs": [
    {
     "name": "stdout",
     "output_type": "stream",
     "text": [
      "Guess a number between 0 and 100- 76\n",
      "Too high!\n",
      "Guess a number between 0 and 100- 45\n",
      "Too high!\n",
      "Guess a number between 0 and 100- 23\n",
      "Too low!\n",
      "Guess a number between 0 and 100- 35\n",
      "Too low!\n",
      "Guess a number between 0 and 100- 40\n",
      "Congratulations. The correct number is: 40\n"
     ]
    }
   ],
   "source": [
    "from random import randint\n",
    "random_gen=randint(0,100)\n",
    "guess=0\n",
    "\n",
    "\n",
    "while guess!=random_gen:\n",
    "    guess=int(input(\"Guess a number between 0 and 100- \"))\n",
    "    if guess in range(1,100):\n",
    "        if guess>random_gen:\n",
    "            print(\"Too high!\")\n",
    "        elif guess<random_gen:\n",
    "            print(\"Too low!\")\n",
    "    else:\n",
    "        print(\"OUT OF RANGE!\")\n",
    "        continue\n",
    "else:\n",
    "    print(\"Congratulations. The correct number is:\", random_gen)\n"
   ]
  },
  {
   "cell_type": "markdown",
   "id": "fb4a0470",
   "metadata": {},
   "source": [
    "### Guessing Game with exception"
   ]
  },
  {
   "cell_type": "code",
   "execution_count": 1,
   "id": "c44e53ab",
   "metadata": {},
   "outputs": [
    {
     "name": "stdout",
     "output_type": "stream",
     "text": [
      "Guess a number between 0 and 100- 78\n",
      "Too high!\n",
      "Guess a number between 0 and 100- 50\n",
      "Too low!\n",
      "Guess a number between 0 and 100- 60\n",
      "Too low!\n",
      "Guess a number between 0 and 100- 70\n",
      "Too high!\n",
      "Guess a number between 0 and 100- 65\n",
      "Too high!\n",
      "Guess a number between 0 and 100- 63\n",
      "Too high!\n",
      "Guess a number between 0 and 100- 62\n",
      "Congratulations. The correct number is: 62\n",
      "You had 7 valid guess(es)\n"
     ]
    }
   ],
   "source": [
    "from random import randint\n",
    "random_gen=randint(0,100)\n",
    "guess=0\n",
    "guesses=0\n",
    "\n",
    "\n",
    "while guess!=random_gen:\n",
    "    try:\n",
    "        guess=int(input(\"Guess a number between 0 and 100- \"))\n",
    "        if guess in range(1,100):\n",
    "            if guess>random_gen:\n",
    "                print(\"Too high!\")\n",
    "            elif guess<random_gen:\n",
    "                print(\"Too low!\")\n",
    "            guesses+=1\n",
    "        else:\n",
    "            print(\"OUT OF RANGE!\")\n",
    "            continue\n",
    "    except ValueError:\n",
    "        if ValueError:\n",
    "            print(\"INVALID INPUT!\")\n",
    "        continue \n",
    "else:\n",
    "    print(\"Congratulations. The correct number is:\", random_gen)\n",
    "\n",
    "print (\"You had %d valid guess(es)\" % guesses)"
   ]
  },
  {
   "cell_type": "markdown",
   "id": "9ad2d756",
   "metadata": {},
   "source": [
    "#### Keep the game going until the user types “exit”"
   ]
  },
  {
   "cell_type": "code",
   "execution_count": 65,
   "id": "207fd911",
   "metadata": {},
   "outputs": [
    {
     "name": "stdout",
     "output_type": "stream",
     "text": [
      "Please type exit if you would like to stop guessing while in the middle of a game\n",
      "Guess a number between 0 and 100- 78\n",
      "Too high!\n",
      "Guess a number between 0 and 100- exit\n",
      "\n",
      "Thank you for your participation\n",
      "You had 1 valid guess(es)\n",
      "\n",
      "Would you like to start another round?(y/n): n\n",
      "\n",
      "Thank you for participating\n"
     ]
    }
   ],
   "source": [
    "class GameRound:\n",
    "    def __init__(self):\n",
    "        self.random_gen = randint(0,100)\n",
    "        self.guess=0\n",
    "        guesses=0\n",
    "        print(\"Please type exit if you would like to stop guessing while in the middle of a game\")\n",
    "        while self.guess != self.random_gen and self.guess!=\"exit\":\n",
    "            try:\n",
    "                self.guess=input(\"Guess a number between 0 and 100- \")\n",
    "                if self.guess.lower()==\"exit\":\n",
    "                    print(\"\\nThank you for your participation\")\n",
    "                    break\n",
    "                else:\n",
    "                    self.guess= int(self.guess)\n",
    "                    if self.guess in range(1,100):\n",
    "                        if self.guess>self.random_gen:\n",
    "                            print(\"Too high!\")\n",
    "                        elif self.guess<self.random_gen:\n",
    "                            print(\"Too low!\")\n",
    "                        guesses+=1\n",
    "                    else:\n",
    "                        print(\"OUT OF RANGE!\")\n",
    "                        continue\n",
    "            except ValueError:\n",
    "                if ValueError:\n",
    "                    print(\"INVALID INPUT!\")\n",
    "                continue   \n",
    "        else:\n",
    "            print(\"\\nCongratulations. The correct number is:\", self.random_gen)\n",
    "        print (\"You had %d valid guess(es)\" % guesses)\n",
    "            \n",
    "            \n",
    "class NewGame:\n",
    "    def __init__(self):\n",
    "        self.endGame = False\n",
    "    def start(self):\n",
    "        while not self.endGame:\n",
    "            GameRound()\n",
    "            self.checkEndAnswer()\n",
    "    def checkEndAnswer(self):\n",
    "        answer = input(\"\\nWould you like to start another round?(y/n): \")\n",
    "        if answer.lower() == 'y' or answer.lower() ==\"yes\":\n",
    "            GameRound()\n",
    "            self.checkEndAnswer()\n",
    "        elif answer.lower() == 'n' or answer.lower() ==\"no\":\n",
    "            print(\"Thank you for participating\")\n",
    "            self.endGame = True\n",
    "            \n",
    "g=NewGame()\n",
    "g.start()"
   ]
  },
  {
   "cell_type": "code",
   "execution_count": null,
   "id": "2e6c1b7f",
   "metadata": {},
   "outputs": [],
   "source": []
  }
 ],
 "metadata": {
  "kernelspec": {
   "display_name": "Python 3 (ipykernel)",
   "language": "python",
   "name": "python3"
  },
  "language_info": {
   "codemirror_mode": {
    "name": "ipython",
    "version": 3
   },
   "file_extension": ".py",
   "mimetype": "text/x-python",
   "name": "python",
   "nbconvert_exporter": "python",
   "pygments_lexer": "ipython3",
   "version": "3.9.12"
  }
 },
 "nbformat": 4,
 "nbformat_minor": 5
}
